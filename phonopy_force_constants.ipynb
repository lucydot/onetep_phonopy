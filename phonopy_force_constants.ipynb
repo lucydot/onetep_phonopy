{
 "cells": [
  {
   "cell_type": "code",
   "execution_count": 12,
   "metadata": {},
   "outputs": [],
   "source": [
    "from phonopy import Phonopy\n",
    "from phonopy.structure.atoms import PhonopyAtoms\n",
    "import numpy as np"
   ]
  },
  {
   "cell_type": "code",
   "execution_count": 13,
   "metadata": {},
   "outputs": [],
   "source": [
    "a = 40.0\n",
    "unitcell = PhonopyAtoms(symbols=['C','H','H','C','H','H'],\n",
    "                        cell=(np.eye(3) * a),\n",
    "                        positions=[[21.243618,19.966152,20.054748],\n",
    "                                   [22.327758,21.379927,21.104192],\n",
    "                                   [22.335789,18.490615,19.103632],\n",
    "                                   [18.756384,20.033161,19.945376],\n",
    "                                   [17.664406,21.508773,20.896216], \n",
    "                                   [17.672044,18.619372,18.895836]])\n",
    "\n",
    "\n"
   ]
  },
  {
   "cell_type": "code",
   "execution_count": 14,
   "metadata": {},
   "outputs": [],
   "source": [
    "phonon = Phonopy(unitcell,\n",
    "                 [[1, 0, 0], [0, 1, 0], [0, 0, 1]])"
   ]
  },
  {
   "cell_type": "code",
   "execution_count": null,
   "metadata": {},
   "outputs": [],
   "source": []
  }
 ],
 "metadata": {
  "kernelspec": {
   "display_name": "Python 3",
   "language": "python",
   "name": "python3"
  },
  "language_info": {
   "codemirror_mode": {
    "name": "ipython",
    "version": 3
   },
   "file_extension": ".py",
   "mimetype": "text/x-python",
   "name": "python",
   "nbconvert_exporter": "python",
   "pygments_lexer": "ipython3",
   "version": "3.6.4"
  }
 },
 "nbformat": 4,
 "nbformat_minor": 2
}
